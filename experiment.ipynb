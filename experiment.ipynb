{
 "cells": [
  {
   "cell_type": "code",
   "execution_count": 1,
   "metadata": {},
   "outputs": [],
   "source": [
    "from srlearn.rdn import BoostedRDN\n",
    "from srlearn import Database\n",
    "from srlearn import Background\n",
    "from sklearn.metrics import roc_auc_score, log_loss, precision_recall_curve, auc, precision_score, recall_score\n",
    "import numpy as np\n",
    "from get_datasets import *\n",
    "import tensorflow\n",
    "from tensorflow.keras.models import Sequential\n",
    "from tensorflow.keras.layers import Dense\n",
    "from sklearn.linear_model import LogisticRegression\n",
    "import random\n",
    "\n",
    "import sys\n",
    "sys.path.append('src')\n",
    "from boost import VectorBoostedRDN"
   ]
  },
  {
   "cell_type": "code",
   "execution_count": 2,
   "metadata": {},
   "outputs": [],
   "source": [
    "def cll_score(y_true, y_pred):\n",
    "    def cll(posProb, negProb):\n",
    "        llSum = 0\n",
    "        for prob in posProb:\n",
    "            if prob == 0:\n",
    "                prob = 1e-6\n",
    "            llSum += math.log(prob)\n",
    "        for prob in negProb:\n",
    "            if prob == 1:\n",
    "                prob = 1 - 1e-6\n",
    "            llSum += math.log(1 - prob)\n",
    "        return llSum/(len(posProb) + len(negProb))\n",
    "    posProb = [prob for true, prob in zip(list(y_true), list(y_pred)) if true == 1.0]\n",
    "    negProb = [prob for true, prob in zip(list(y_true), list(y_pred)) if true == 0.0]\n",
    "    return cll(posProb, negProb)\n",
    "\n",
    "def pr_auc_score(y_true, y_pred):\n",
    "    precision, recall, _ = precision_recall_curve(y_true, y_pred)\n",
    "    return auc(recall, precision)"
   ]
  },
  {
   "cell_type": "code",
   "execution_count": 3,
   "metadata": {},
   "outputs": [],
   "source": [
    "modes = [\n",
    "    'countryhascompanyoffice(+country,+company).',\n",
    "    'countryhascompanyoffice(+country,-company).',\n",
    "    'countryhascompanyoffice(-country,+company).',\n",
    "    'companyeconomicsector(+company,+sector).',\n",
    "    'companyeconomicsector(+company,-sector).',\n",
    "    'companyeconomicsector(-company,+sector).',\n",
    "    'economicsectorcompany(+sector,`company).',\n",
    "    'economicsectorcompany(`sector,+company).',\n",
    "    #'economicsectorcompany(+sector,+company).',\n",
    "    #'economicsectorcompany(+sector,-company).',\n",
    "    #'economicsectorcompany(-sector,+company).',\n",
    "    #'ceoeconomicsector(+person,+sector).',\n",
    "    #'ceoeconomicsector(+person,-sector).',\n",
    "    #'ceoeconomicsector(-person,+sector).',\n",
    "    'companyceo(+company,+person).',\n",
    "    'companyceo(+company,-person).',\n",
    "    'companyceo(-company,+person).',\n",
    "    'companyalsoknownas(+company,+company).',\n",
    "    'companyalsoknownas(+company,-company).',\n",
    "    'companyalsoknownas(-company,+company).',\n",
    "    'cityhascompanyoffice(+city,+company).',\n",
    "    'cityhascompanyoffice(+city,-company).',\n",
    "    'cityhascompanyoffice(-city,+company).',\n",
    "    'acquired(+company,+company).',\n",
    "    'acquired(+company,-company).',\n",
    "    'acquired(-company,+company).',\n",
    "    #'ceoof(+person,+company).',\n",
    "    #'ceoof(+person,-company).',\n",
    "    #'ceoof(-person,+company).',\n",
    "    'bankbankincountry(+person,+country).',\n",
    "    'bankbankincountry(+person,-country).',\n",
    "    'bankbankincountry(-person,+country).',\n",
    "    'bankboughtbank(+company,+company).',\n",
    "    'bankboughtbank(+company,-company).',\n",
    "    'bankboughtbank(-company,+company).',\n",
    "    'bankchiefexecutiveceo(+company,+person).',\n",
    "    'bankchiefexecutiveceo(+company,-person).',\n",
    "    'bankchiefexecutiveceo(-company,+person).',\n",
    "]\n",
    "\n",
    "facts, pos, neg = datasets.load('nell_finances', modes, target='companyeconomicsector')\n",
    "\n",
    "facts, pos, neg = facts[0], pos[0], neg[0]\n",
    "pos, neg = datasets.split_into_folds(pos, 3), datasets.split_into_folds(neg, 3)"
   ]
  },
  {
   "cell_type": "code",
   "execution_count": 18,
   "metadata": {},
   "outputs": [],
   "source": [
    "metrics = {}\n",
    "for fold in range(len(pos)):\n",
    "    results = {}\n",
    "    for _ in range(len(pos)):\n",
    "        test_db = Database()\n",
    "        test_db.pos = pos[fold]\n",
    "        test_db.neg = neg[fold]\n",
    "        test_db.facts = facts\n",
    "\n",
    "        train_db = Database()\n",
    "        train_db.facts = facts\n",
    "        for i in range(len(pos)):\n",
    "            if fold == i:\n",
    "                continue\n",
    "            train_db.pos.extend(pos[i])\n",
    "            train_db.neg.extend(neg[i])\n",
    "\n",
    "        bk = Background(\n",
    "            modes=modes,\n",
    "            number_of_clauses=8,\n",
    "        )\n",
    "\n",
    "        clf = BoostedRDN(\n",
    "            background=bk,\n",
    "            target=\"companyeconomicsector\",\n",
    "            n_estimators=20,\n",
    "        )\n",
    "\n",
    "        clf.fit(train_db)\n",
    "\n",
    "        y_true = np.array([1.0 for _ in range(len(test_db.pos))] + [0.0 for _ in range(len(test_db.neg))])\n",
    "        y_pred = clf.predict_proba(test_db)\n",
    "        y_label = np.array([1.0 if i > 0.5 else 0.0 for i in y_pred])\n",
    "\n",
    "        results.setdefault('roc', []).append(roc_auc_score(y_true, y_pred))\n",
    "        results.setdefault('pr', []).append(pr_auc_score(y_true, y_pred))\n",
    "        results.setdefault('log_loss', []).append(log_loss(y_true, y_pred))\n",
    "        results.setdefault('precision', []).append(precision_score(y_true, y_label))\n",
    "        results.setdefault('recall', []).append(recall_score(y_true, y_label))\n",
    "    for key, value in results.items():\n",
    "        metrics.setdefault(key, []).append(np.mean(value))"
   ]
  },
  {
   "cell_type": "code",
   "execution_count": 19,
   "metadata": {},
   "outputs": [
    {
     "data": {
      "text/plain": [
       "{'roc': [0.7255399408284023, 0.7672559171597634, 0.7177052661098092],\n",
       " 'pr': [0.7836532362406764, 0.7892470181226905, 0.7536113999622445],\n",
       " 'log_loss': [0.5937989449572965, 0.5784891284744239, 0.5944896073782946],\n",
       " 'precision': [0.5863178455991922, 0.8696135340148285, 0.7905473843692015],\n",
       " 'recall': [0.826923076923077, 0.3525641025641026, 0.35529715762273906]}"
      ]
     },
     "execution_count": 19,
     "metadata": {},
     "output_type": "execute_result"
    }
   ],
   "source": [
    "metrics"
   ]
  },
  {
   "cell_type": "code",
   "execution_count": 4,
   "metadata": {},
   "outputs": [],
   "source": [
    "from model import NeuralRDN"
   ]
  },
  {
   "cell_type": "code",
   "execution_count": 5,
   "metadata": {},
   "outputs": [
    {
     "name": "stdout",
     "output_type": "stream",
     "text": [
      "roc: 0.8222115384615384\n",
      "pr: 0.8562793387638684\n",
      "log_loss: 0.5049083447148008\n",
      "precision: 0.7166848987121878\n",
      "recall: 0.8051282051282053\n",
      "roc: 0.7368811637080869\n",
      "pr: 0.7562234736890758\n",
      "log_loss: 0.5679390615795572\n",
      "precision: 0.6941173188391527\n",
      "recall: 0.7384615384615385\n",
      "roc: 0.7980289646054924\n",
      "pr: 0.8310661481797679\n",
      "log_loss: 0.49986087123534984\n",
      "precision: 0.8778599462077482\n",
      "recall: 0.42635658914728686\n"
     ]
    }
   ],
   "source": [
    "metrics = {}\n",
    "for fold in range(len(pos)):\n",
    "    results = {}\n",
    "    for _ in range(len(pos)):\n",
    "        test_db = Database()\n",
    "        test_db.pos = pos[fold]\n",
    "        test_db.neg = neg[fold]\n",
    "        test_db.facts = facts\n",
    "\n",
    "        train_db = Database()\n",
    "        train_db.facts = facts\n",
    "        for i in range(len(pos)):\n",
    "            if fold == i:\n",
    "                continue\n",
    "            train_db.pos.extend(pos[i])\n",
    "            train_db.neg.extend(neg[i])\n",
    "\n",
    "        bk = Background(\n",
    "            modes=modes,\n",
    "            number_of_clauses=4,\n",
    "        )\n",
    "\n",
    "        clf = NeuralRDN(\n",
    "            background=bk,\n",
    "            target=\"companyeconomicsector\",\n",
    "            max_tree_depth=2,\n",
    "            n_estimators=50,\n",
    "            n_boost_estimators=1,\n",
    "            predicate_prob=0.5,\n",
    "            sample_prob=0.5,\n",
    "        )\n",
    "\n",
    "        clf.fit(train_db)\n",
    "\n",
    "        y_true = np.array([1.0 for _ in range(len(test_db.pos))] + [0.0 for _ in range(len(test_db.neg))])\n",
    "        y_pred = clf.predict_proba(test_db)\n",
    "        y_label = np.array([1.0 if i > 0.5 else 0.0 for i in y_pred])\n",
    "        \n",
    "        results.setdefault('roc', []).append(roc_auc_score(y_true, y_pred))\n",
    "        results.setdefault('pr', []).append(pr_auc_score(y_true, y_pred))\n",
    "        results.setdefault('log_loss', []).append(log_loss(y_true, y_pred))\n",
    "        results.setdefault('precision', []).append(precision_score(y_true, y_label))\n",
    "        results.setdefault('recall', []).append(recall_score(y_true, y_label))\n",
    "        \n",
    "    for key, value in results.items():\n",
    "        print('{}: {}'.format(key, np.mean(value)))\n",
    "        metrics.setdefault(key, []).append(np.mean(value))"
   ]
  },
  {
   "cell_type": "code",
   "execution_count": 6,
   "metadata": {},
   "outputs": [
    {
     "data": {
      "text/plain": [
       "{'roc': [0.8222115384615384, 0.7368811637080869, 0.7980289646054924],\n",
       " 'pr': [0.8562793387638684, 0.7562234736890758, 0.8310661481797679],\n",
       " 'log_loss': [0.5049083447148008, 0.5679390615795572, 0.49986087123534984],\n",
       " 'precision': [0.7166848987121878, 0.6941173188391527, 0.8778599462077482],\n",
       " 'recall': [0.8051282051282053, 0.7384615384615385, 0.42635658914728686]}"
      ]
     },
     "execution_count": 6,
     "metadata": {},
     "output_type": "execute_result"
    }
   ],
   "source": [
    "metrics"
   ]
  },
  {
   "cell_type": "code",
   "execution_count": 7,
   "metadata": {},
   "outputs": [],
   "source": [
    "rdnboost = {'roc': [0.7255399408284023, 0.7672559171597634, 0.7177052661098092],\n",
    " 'pr': [0.7836532362406764, 0.7892470181226905, 0.7536113999622445],\n",
    " 'log_loss': [0.5937989449572965, 0.5784891284744239, 0.5944896073782946],\n",
    " 'precision': [0.5863178455991922, 0.8696135340148285, 0.7905473843692015],\n",
    " 'recall': [0.826923076923077, 0.3525641025641026, 0.35529715762273906]}\n",
    "\n",
    "baggingrdnmlp = {'roc': [0.8222115384615384, 0.7368811637080869, 0.7980289646054924],\n",
    " 'pr': [0.8562793387638684, 0.7562234736890758, 0.8310661481797679],\n",
    " 'log_loss': [0.5049083447148008, 0.5679390615795572, 0.49986087123534984],\n",
    " 'precision': [0.7166848987121878, 0.6941173188391527, 0.8778599462077482],\n",
    " 'recall': [0.8051282051282053, 0.7384615384615385, 0.42635658914728686]}"
   ]
  },
  {
   "cell_type": "code",
   "execution_count": 8,
   "metadata": {},
   "outputs": [
    {
     "data": {
      "text/markdown": [
       "# Results for roc"
      ],
      "text/plain": [
       "<IPython.core.display.Markdown object>"
      ]
     },
     "metadata": {},
     "output_type": "display_data"
    },
    {
     "data": {
      "text/html": [
       "<div>\n",
       "<style scoped>\n",
       "    .dataframe tbody tr th:only-of-type {\n",
       "        vertical-align: middle;\n",
       "    }\n",
       "\n",
       "    .dataframe tbody tr th {\n",
       "        vertical-align: top;\n",
       "    }\n",
       "\n",
       "    .dataframe thead th {\n",
       "        text-align: right;\n",
       "    }\n",
       "</style>\n",
       "<table border=\"1\" class=\"dataframe\">\n",
       "  <thead>\n",
       "    <tr style=\"text-align: right;\">\n",
       "      <th></th>\n",
       "      <th>RDNBoost</th>\n",
       "      <th>Bagging RDN+MLP</th>\n",
       "    </tr>\n",
       "  </thead>\n",
       "  <tbody>\n",
       "    <tr>\n",
       "      <th>0</th>\n",
       "      <td>0.737 +/- 0.043</td>\n",
       "      <td>0.786 +/- 0.072</td>\n",
       "    </tr>\n",
       "  </tbody>\n",
       "</table>\n",
       "</div>"
      ],
      "text/plain": [
       "          RDNBoost  Bagging RDN+MLP\n",
       "0  0.737 +/- 0.043  0.786 +/- 0.072"
      ]
     },
     "metadata": {},
     "output_type": "display_data"
    },
    {
     "data": {
      "text/markdown": [
       "# Results for pr"
      ],
      "text/plain": [
       "<IPython.core.display.Markdown object>"
      ]
     },
     "metadata": {},
     "output_type": "display_data"
    },
    {
     "data": {
      "text/html": [
       "<div>\n",
       "<style scoped>\n",
       "    .dataframe tbody tr th:only-of-type {\n",
       "        vertical-align: middle;\n",
       "    }\n",
       "\n",
       "    .dataframe tbody tr th {\n",
       "        vertical-align: top;\n",
       "    }\n",
       "\n",
       "    .dataframe thead th {\n",
       "        text-align: right;\n",
       "    }\n",
       "</style>\n",
       "<table border=\"1\" class=\"dataframe\">\n",
       "  <thead>\n",
       "    <tr style=\"text-align: right;\">\n",
       "      <th></th>\n",
       "      <th>RDNBoost</th>\n",
       "      <th>Bagging RDN+MLP</th>\n",
       "    </tr>\n",
       "  </thead>\n",
       "  <tbody>\n",
       "    <tr>\n",
       "      <th>0</th>\n",
       "      <td>0.776 +/- 0.031</td>\n",
       "      <td>0.815 +/- 0.085</td>\n",
       "    </tr>\n",
       "  </tbody>\n",
       "</table>\n",
       "</div>"
      ],
      "text/plain": [
       "          RDNBoost  Bagging RDN+MLP\n",
       "0  0.776 +/- 0.031  0.815 +/- 0.085"
      ]
     },
     "metadata": {},
     "output_type": "display_data"
    },
    {
     "data": {
      "text/markdown": [
       "# Results for log_loss"
      ],
      "text/plain": [
       "<IPython.core.display.Markdown object>"
      ]
     },
     "metadata": {},
     "output_type": "display_data"
    },
    {
     "data": {
      "text/html": [
       "<div>\n",
       "<style scoped>\n",
       "    .dataframe tbody tr th:only-of-type {\n",
       "        vertical-align: middle;\n",
       "    }\n",
       "\n",
       "    .dataframe tbody tr th {\n",
       "        vertical-align: top;\n",
       "    }\n",
       "\n",
       "    .dataframe thead th {\n",
       "        text-align: right;\n",
       "    }\n",
       "</style>\n",
       "<table border=\"1\" class=\"dataframe\">\n",
       "  <thead>\n",
       "    <tr style=\"text-align: right;\">\n",
       "      <th></th>\n",
       "      <th>RDNBoost</th>\n",
       "      <th>Bagging RDN+MLP</th>\n",
       "    </tr>\n",
       "  </thead>\n",
       "  <tbody>\n",
       "    <tr>\n",
       "      <th>0</th>\n",
       "      <td>0.589 +/- 0.015</td>\n",
       "      <td>0.524 +/- 0.062</td>\n",
       "    </tr>\n",
       "  </tbody>\n",
       "</table>\n",
       "</div>"
      ],
      "text/plain": [
       "          RDNBoost  Bagging RDN+MLP\n",
       "0  0.589 +/- 0.015  0.524 +/- 0.062"
      ]
     },
     "metadata": {},
     "output_type": "display_data"
    },
    {
     "data": {
      "text/markdown": [
       "# Results for precision"
      ],
      "text/plain": [
       "<IPython.core.display.Markdown object>"
      ]
     },
     "metadata": {},
     "output_type": "display_data"
    },
    {
     "data": {
      "text/html": [
       "<div>\n",
       "<style scoped>\n",
       "    .dataframe tbody tr th:only-of-type {\n",
       "        vertical-align: middle;\n",
       "    }\n",
       "\n",
       "    .dataframe tbody tr th {\n",
       "        vertical-align: top;\n",
       "    }\n",
       "\n",
       "    .dataframe thead th {\n",
       "        text-align: right;\n",
       "    }\n",
       "</style>\n",
       "<table border=\"1\" class=\"dataframe\">\n",
       "  <thead>\n",
       "    <tr style=\"text-align: right;\">\n",
       "      <th></th>\n",
       "      <th>RDNBoost</th>\n",
       "      <th>Bagging RDN+MLP</th>\n",
       "    </tr>\n",
       "  </thead>\n",
       "  <tbody>\n",
       "    <tr>\n",
       "      <th>0</th>\n",
       "      <td>0.749 +/- 0.239</td>\n",
       "      <td>0.763 +/- 0.164</td>\n",
       "    </tr>\n",
       "  </tbody>\n",
       "</table>\n",
       "</div>"
      ],
      "text/plain": [
       "          RDNBoost  Bagging RDN+MLP\n",
       "0  0.749 +/- 0.239  0.763 +/- 0.164"
      ]
     },
     "metadata": {},
     "output_type": "display_data"
    },
    {
     "data": {
      "text/markdown": [
       "# Results for recall"
      ],
      "text/plain": [
       "<IPython.core.display.Markdown object>"
      ]
     },
     "metadata": {},
     "output_type": "display_data"
    },
    {
     "data": {
      "text/html": [
       "<div>\n",
       "<style scoped>\n",
       "    .dataframe tbody tr th:only-of-type {\n",
       "        vertical-align: middle;\n",
       "    }\n",
       "\n",
       "    .dataframe tbody tr th {\n",
       "        vertical-align: top;\n",
       "    }\n",
       "\n",
       "    .dataframe thead th {\n",
       "        text-align: right;\n",
       "    }\n",
       "</style>\n",
       "<table border=\"1\" class=\"dataframe\">\n",
       "  <thead>\n",
       "    <tr style=\"text-align: right;\">\n",
       "      <th></th>\n",
       "      <th>RDNBoost</th>\n",
       "      <th>Bagging RDN+MLP</th>\n",
       "    </tr>\n",
       "  </thead>\n",
       "  <tbody>\n",
       "    <tr>\n",
       "      <th>0</th>\n",
       "      <td>0.512 +/- 0.446</td>\n",
       "      <td>0.657 +/- 0.330</td>\n",
       "    </tr>\n",
       "  </tbody>\n",
       "</table>\n",
       "</div>"
      ],
      "text/plain": [
       "          RDNBoost  Bagging RDN+MLP\n",
       "0  0.512 +/- 0.446  0.657 +/- 0.330"
      ]
     },
     "metadata": {},
     "output_type": "display_data"
    }
   ],
   "source": [
    "from IPython.display import display, Markdown, Latex\n",
    "\n",
    "for metric, _ in rdnboost.items():\n",
    "    display(Markdown('# Results for ' + metric))\n",
    "    table = []\n",
    "    table.append([\n",
    "        '%.3f +/- %.3f' % (np.array(rdnboost[metric]).mean(), 2 * np.array(rdnboost[metric]).std()),\n",
    "        '%.3f +/- %.3f' % (np.array(baggingrdnmlp[metric]).mean(), 2 * np.array(baggingrdnmlp[metric]).std()),\n",
    "    ])\n",
    "    display(pd.DataFrame(table, columns=['RDNBoost', 'Bagging RDN+MLP']))"
   ]
  },
  {
   "cell_type": "code",
   "execution_count": null,
   "metadata": {},
   "outputs": [],
   "source": []
  }
 ],
 "metadata": {
  "kernelspec": {
   "display_name": "Python 3",
   "language": "python",
   "name": "python3"
  },
  "language_info": {
   "codemirror_mode": {
    "name": "ipython",
    "version": 3
   },
   "file_extension": ".py",
   "mimetype": "text/x-python",
   "name": "python",
   "nbconvert_exporter": "python",
   "pygments_lexer": "ipython3",
   "version": "3.8.5"
  }
 },
 "nbformat": 4,
 "nbformat_minor": 4
}
