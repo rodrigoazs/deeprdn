{
 "cells": [
  {
   "cell_type": "code",
   "execution_count": 47,
   "metadata": {},
   "outputs": [],
   "source": [
    "from srlearn.rdn import BoostedRDN"
   ]
  },
  {
   "cell_type": "code",
   "execution_count": 48,
   "metadata": {},
   "outputs": [],
   "source": [
    "from srlearn import Background"
   ]
  },
  {
   "cell_type": "code",
   "execution_count": 49,
   "metadata": {},
   "outputs": [],
   "source": [
    "from get_datasets import *"
   ]
  },
  {
   "cell_type": "code",
   "execution_count": 55,
   "metadata": {},
   "outputs": [],
   "source": [
    "modes = [\n",
    "              'workedunder(+person,+person).',\n",
    "              'workedunder(+person,-person).',\n",
    "              'workedunder(-person,+person).',\n",
    "              #'recursion_workedunder(+person,`person).',\n",
    "              #'recursion_workedunder(`person,+person).',\n",
    "              'female(+person).',\n",
    "              'actor(+person).',\n",
    "              'director(+person).',\n",
    "              'movie(+movie,+person).',\n",
    "              'movie(+movie,-person).',\n",
    "              'movie(-movie,+person).',\n",
    "              'genre(+person,+genre).']\n",
    "\n",
    "facts, pos, neg = datasets.load('imdb', modes, target='workedunder')"
   ]
  },
  {
   "cell_type": "code",
   "execution_count": 60,
   "metadata": {},
   "outputs": [],
   "source": [
    "from srlearn import Database\n",
    "\n",
    "train_db = Database()\n",
    "train_db.pos = pos[0] + pos[1] + pos[2] + pos[3]\n",
    "train_db.neg = neg[0] + neg[1] + neg[2] + neg[3]\n",
    "train_db.facts = facts[0] + facts[1] + facts[2] + facts[3]\n",
    "\n",
    "bk = Background(\n",
    "    modes=modes,\n",
    "    node_size=2,\n",
    "    number_of_clauses=8,\n",
    ")\n",
    "\n",
    "clf = BoostedRDN(\n",
    "    background=bk,\n",
    "    target=\"workedunder\",\n",
    "    n_estimators=20,\n",
    ")"
   ]
  },
  {
   "cell_type": "code",
   "execution_count": 61,
   "metadata": {},
   "outputs": [
    {
     "data": {
      "text/plain": [
       "BoostedRDN(background=setParam: nodeSize=2.\n",
       "setParam: maxTreeDepth=3.\n",
       "setParam: numberOfClauses=8.\n",
       "setParam: numberOfCycles=100.\n",
       "mode: workedunder(+person,+person).\n",
       "mode: workedunder(+person,-person).\n",
       "mode: workedunder(-person,+person).\n",
       "mode: female(+person).\n",
       "mode: actor(+person).\n",
       "mode: director(+person).\n",
       "mode: movie(+movie,+person).\n",
       "mode: movie(+movie,-person).\n",
       "mode: movie(-movie,+person).\n",
       "mode: genre(+person,+genre).\n",
       ",\n",
       "           n_estimators=20, target='workedunder')"
      ]
     },
     "execution_count": 61,
     "metadata": {},
     "output_type": "execute_result"
    }
   ],
   "source": [
    "clf.fit(train_db)"
   ]
  },
  {
   "cell_type": "code",
   "execution_count": 62,
   "metadata": {},
   "outputs": [
    {
     "data": {
      "text/plain": [
       "['setParam: stringsAreCaseSensitive = true.\\n\\nusePrologVariables: true.\\n\\n\\n(workedunder(A, B, 0.8581489350995084) :-  /* #pos=337 */ actor(A), director(B), movie(UniqueVar1, A), movie(UniqueVar1, B)).\\n(workedunder(A, B, -0.1418510649004877) :-  /* #neg=29 */ actor(A), director(B)).\\nworkedunder(_, _, -0.14185106490048816) /* #neg=308 */ .\\n',\n",
       " 'setParam: stringsAreCaseSensitive = true.\\n\\nusePrologVariables: true.\\n\\n\\n(workedunder(A, B, 0.719473412210958) :-  /* #pos=337 */ director(B), actor(A), movie(UniqueVar2, A), movie(UniqueVar2, B)).\\n(workedunder(A, B, -0.12544463852839138) :-  /* #neg=29 */ director(B), actor(A)).\\nworkedunder(_, _, -0.12544463852839197) /* #neg=308 */ .\\n',\n",
       " 'setParam: stringsAreCaseSensitive = true.\\n\\nusePrologVariables: true.\\n\\n\\n(workedunder(A, B, 0.5553664367462832) :-  /* #pos=337 */ director(B), actor(A), movie(UniqueVar3, A), movie(UniqueVar3, B)).\\n(workedunder(A, B, -0.1123163781936064) :-  /* #neg=29 */ director(B), actor(A)).\\nworkedunder(_, _, -0.11231637819360686) /* #neg=308 */ .\\n',\n",
       " 'setParam: stringsAreCaseSensitive = true.\\n\\nusePrologVariables: true.\\n\\n\\n(workedunder(A, B, 0.41751358415831175) :-  /* #pos=337 */ actor(A), director(B), movie(UniqueVar4, A), movie(UniqueVar4, B)).\\n(workedunder(A, B, -0.10159632948783635) :-  /* #neg=29 */ actor(A), director(B)).\\nworkedunder(_, _, -0.10159632948783649) /* #neg=308 */ .\\n',\n",
       " 'setParam: stringsAreCaseSensitive = true.\\n\\nusePrologVariables: true.\\n\\n\\n(workedunder(A, B, 0.3207118471601512) :-  /* #pos=337 */ actor(A), director(B), movie(UniqueVar5, A), movie(UniqueVar5, B)).\\n(workedunder(A, B, -0.09269127618926097) :-  /* #neg=29 */ actor(A), director(B)).\\nworkedunder(_, _, -0.09269127618926054) /* #neg=308 */ .\\n',\n",
       " 'setParam: stringsAreCaseSensitive = true.\\n\\nusePrologVariables: true.\\n\\n\\n(workedunder(A, B, 0.2551722425694875) :-  /* #pos=337 */ actor(A), director(B), movie(UniqueVar6, A), movie(UniqueVar6, B)).\\n(workedunder(A, B, -0.0851847513883968) :-  /* #neg=29 */ actor(A), director(B)).\\nworkedunder(_, _, -0.08518475138839678) /* #neg=308 */ .\\n',\n",
       " 'setParam: stringsAreCaseSensitive = true.\\n\\nusePrologVariables: true.\\n\\n\\n(workedunder(A, B, 0.2097577156325347) :-  /* #pos=337 */ director(B), actor(A), movie(UniqueVar7, A), movie(UniqueVar7, B)).\\n(workedunder(A, B, -0.07877675473109179) :-  /* #neg=29 */ director(B), actor(A)).\\nworkedunder(_, _, -0.07877675473109143) /* #neg=308 */ .\\n',\n",
       " 'setParam: stringsAreCaseSensitive = true.\\n\\nusePrologVariables: true.\\n\\n\\n(workedunder(A, B, 0.17709649774527644) :-  /* #pos=337 */ director(B), actor(A), movie(UniqueVar8, A), movie(UniqueVar8, B)).\\n(workedunder(A, B, -0.07324622576333704) :-  /* #neg=29 */ director(B), actor(A)).\\nworkedunder(_, _, -0.07324622576333696) /* #neg=308 */ .\\n',\n",
       " 'setParam: stringsAreCaseSensitive = true.\\n\\nusePrologVariables: true.\\n\\n\\n(workedunder(A, B, 0.1527438580936716) :-  /* #pos=337 */ director(B), actor(A), movie(UniqueVar9, A), movie(UniqueVar9, B)).\\n(workedunder(A, B, -0.06842697784420276) :-  /* #neg=29 */ director(B), actor(A)).\\nworkedunder(_, _, -0.06842697784420296) /* #neg=308 */ .\\n',\n",
       " 'setParam: stringsAreCaseSensitive = true.\\n\\nusePrologVariables: true.\\n\\n\\n(workedunder(A, B, 0.1340070300080119) :-  /* #pos=337 */ actor(A), director(B), movie(UniqueVar10, A), movie(UniqueVar10, B)).\\n(workedunder(A, B, -0.06419184008202623) :-  /* #neg=29 */ actor(A), director(B)).\\nworkedunder(_, _, -0.06419184008202625) /* #neg=308 */ .\\n',\n",
       " 'setParam: stringsAreCaseSensitive = true.\\n\\nusePrologVariables: true.\\n\\n\\n(workedunder(A, B, 0.11920380823128321) :-  /* #pos=337 */ director(B), actor(A), movie(UniqueVar11, A), movie(UniqueVar11, B)).\\n(workedunder(A, B, -0.060441948167738575) :-  /* #neg=29 */ director(B), actor(A)).\\nworkedunder(_, _, -0.06044194816773883) /* #neg=308 */ .\\n',\n",
       " 'setParam: stringsAreCaseSensitive = true.\\n\\nusePrologVariables: true.\\n\\n\\n(workedunder(A, B, 0.10724508452246814) :-  /* #pos=337 */ actor(A), director(B), movie(UniqueVar12, A), movie(UniqueVar12, B)).\\n(workedunder(A, B, -0.0570993501883345) :-  /* #neg=29 */ actor(A), director(B)).\\nworkedunder(_, _, -0.057099350188334355) /* #neg=308 */ .\\n',\n",
       " 'setParam: stringsAreCaseSensitive = true.\\n\\nusePrologVariables: true.\\n\\n\\n(workedunder(A, B, 0.0974011274550112) :-  /* #pos=337 */ director(B), actor(A), movie(UniqueVar13, A), movie(UniqueVar13, B)).\\n(workedunder(A, B, -0.054101797942008145) :-  /* #neg=29 */ director(B), actor(A)).\\nworkedunder(_, _, -0.05410179794200828) /* #neg=308 */ .\\n',\n",
       " 'setParam: stringsAreCaseSensitive = true.\\n\\nusePrologVariables: true.\\n\\n\\n(workedunder(A, B, 0.0891675660630682) :-  /* #pos=337 */ director(B), actor(A), movie(UniqueVar14, A), movie(UniqueVar14, B)).\\n(workedunder(A, B, -0.05139901059016829) :-  /* #neg=29 */ director(B), actor(A)).\\nworkedunder(_, _, -0.05139901059016858) /* #neg=308 */ .\\n',\n",
       " 'setParam: stringsAreCaseSensitive = true.\\n\\nusePrologVariables: true.\\n\\n\\n(workedunder(A, B, 0.08218604818271556) :-  /* #pos=337 */ director(B), actor(A), movie(UniqueVar15, A), movie(UniqueVar15, B)).\\n(workedunder(A, B, -0.04894994992783667) :-  /* #neg=29 */ director(B), actor(A)).\\nworkedunder(_, _, -0.04894994992783642) /* #neg=308 */ .\\n',\n",
       " 'setParam: stringsAreCaseSensitive = true.\\n\\nusePrologVariables: true.\\n\\n\\n(workedunder(A, B, 0.07619570198076865) :-  /* #pos=337 */ director(B), actor(A), movie(UniqueVar16, A), movie(UniqueVar16, B)).\\n(workedunder(A, B, -0.04672080332836748) :-  /* #neg=29 */ director(B), actor(A)).\\nworkedunder(_, _, -0.046720803328367526) /* #neg=308 */ .\\n',\n",
       " 'setParam: stringsAreCaseSensitive = true.\\n\\nusePrologVariables: true.\\n\\n\\n(workedunder(A, B, 0.07100250423444295) :-  /* #pos=337 */ actor(A), director(B), movie(UniqueVar17, A), movie(UniqueVar17, B)).\\n(workedunder(A, B, -0.04468346994743662) :-  /* #neg=29 */ actor(A), director(B)).\\nworkedunder(_, _, -0.044683469947436556) /* #neg=308 */ .\\n',\n",
       " 'setParam: stringsAreCaseSensitive = true.\\n\\nusePrologVariables: true.\\n\\n\\n(workedunder(A, B, 0.06645938878746442) :-  /* #pos=337 */ director(B), actor(A), movie(UniqueVar18, A), movie(UniqueVar18, B)).\\n(workedunder(A, B, -0.04281441025528358) :-  /* #neg=29 */ director(B), actor(A)).\\nworkedunder(_, _, -0.04281441025528373) /* #neg=308 */ .\\n',\n",
       " 'setParam: stringsAreCaseSensitive = true.\\n\\nusePrologVariables: true.\\n\\n\\n(workedunder(A, B, 0.06245298988159939) :-  /* #pos=337 */ actor(A), director(B), movie(UniqueVar19, A), movie(UniqueVar19, B)).\\n(workedunder(A, B, -0.04109376153604857) :-  /* #neg=29 */ actor(A), director(B)).\\nworkedunder(_, _, -0.041093761536048504) /* #neg=308 */ .\\n',\n",
       " 'setParam: stringsAreCaseSensitive = true.\\n\\nusePrologVariables: true.\\n\\n\\n(workedunder(A, B, 0.05889459763950667) :-  /* #pos=337 */ actor(A), director(B), movie(UniqueVar20, A), movie(UniqueVar20, B), !).\\n(workedunder(A, B, -0.039504650587338576) :-  /* #neg=29 */ actor(A), director(B), !).\\n(workedunder(_, _, -0.03950465058733851) :-  /* #neg=308 */ !).\\n']"
      ]
     },
     "execution_count": 62,
     "metadata": {},
     "output_type": "execute_result"
    }
   ],
   "source": [
    "clf.estimators_"
   ]
  },
  {
   "cell_type": "code",
   "execution_count": null,
   "metadata": {},
   "outputs": [],
   "source": []
  },
  {
   "cell_type": "code",
   "execution_count": 63,
   "metadata": {},
   "outputs": [
    {
     "data": {
      "text/plain": [
       "['setParam: stringsAreCaseSensitive = true.',\n",
       " '',\n",
       " 'usePrologVariables: true.',\n",
       " '',\n",
       " '',\n",
       " '(workedunder(A, B, 0.8581489350995084) :-  /* #pos=337 */ actor(A), director(B), movie(UniqueVar1, A), movie(UniqueVar1, B)).',\n",
       " '(workedunder(A, B, -0.1418510649004877) :-  /* #neg=29 */ actor(A), director(B)).',\n",
       " 'workedunder(_, _, -0.14185106490048816) /* #neg=308 */ .',\n",
       " '']"
      ]
     },
     "execution_count": 63,
     "metadata": {},
     "output_type": "execute_result"
    }
   ],
   "source": [
    "clf.estimators_[0].split('\\n')"
   ]
  },
  {
   "cell_type": "code",
   "execution_count": 64,
   "metadata": {},
   "outputs": [],
   "source": [
    "a = clf.estimators_[0].split('\\n')[5]"
   ]
  },
  {
   "cell_type": "code",
   "execution_count": 5,
   "metadata": {},
   "outputs": [],
   "source": [
    "a = \"(workedunder(A, B, 0.8581489350995084) :-  /* #pos=337 */ actor(A), director(B), movie(UniqueVar1, A), movie(UniqueVar1, B)).\""
   ]
  },
  {
   "cell_type": "code",
   "execution_count": 6,
   "metadata": {},
   "outputs": [],
   "source": [
    "import re"
   ]
  },
  {
   "cell_type": "code",
   "execution_count": 7,
   "metadata": {},
   "outputs": [],
   "source": [
    "# \\([a-z0-1_]*\\([a-zA-z0-9-.,\\s]*\\)\\s*:-\\s*"
   ]
  },
  {
   "cell_type": "code",
   "execution_count": 8,
   "metadata": {},
   "outputs": [],
   "source": [
    "a = re.sub('(\\/\\*[a-zA-Z0-9\\s\\#\\=]*\\*\\/)', '', a)"
   ]
  },
  {
   "cell_type": "code",
   "execution_count": 9,
   "metadata": {},
   "outputs": [
    {
     "data": {
      "text/plain": [
       "'(workedunder(A, B, 0.8581489350995084) :-   actor(A), director(B), movie(UniqueVar1, A), movie(UniqueVar1, B)).'"
      ]
     },
     "execution_count": 9,
     "metadata": {},
     "output_type": "execute_result"
    }
   ],
   "source": [
    "a"
   ]
  },
  {
   "cell_type": "code",
   "execution_count": 12,
   "metadata": {},
   "outputs": [
    {
     "data": {
      "text/plain": [
       "('workedunder(A, B, 0.8581489350995084) ',\n",
       " '   actor(A), director(B), movie(UniqueVar1, A), movie(UniqueVar1, B)')"
      ]
     },
     "execution_count": 12,
     "metadata": {},
     "output_type": "execute_result"
    }
   ],
   "source": [
    "re.match('\\(([a-zA-z0-9\\(\\),\\s\\_\\.]*):-([a-zA-z0-9\\(\\),\\s\\_]*)\\)\\.', a).groups()"
   ]
  },
  {
   "cell_type": "code",
   "execution_count": 10,
   "metadata": {},
   "outputs": [],
   "source": [
    "b = re.match('\\([a-z0-1]*\\(([a-zA-z0-9-.,\\s\\_]*)\\)\\s*:-\\s*([a-zA-z0-9\\(\\),\\s\\_]*)\\).', a)"
   ]
  },
  {
   "cell_type": "code",
   "execution_count": null,
   "metadata": {},
   "outputs": [],
   "source": []
  },
  {
   "cell_type": "code",
   "execution_count": 78,
   "metadata": {},
   "outputs": [],
   "source": [
    "target = re.sub('\\s', '', b.groups()[0]).split(',')"
   ]
  },
  {
   "cell_type": "code",
   "execution_count": 79,
   "metadata": {},
   "outputs": [
    {
     "data": {
      "text/plain": [
       "['A', 'B', '0.8581489350995084']"
      ]
     },
     "execution_count": 79,
     "metadata": {},
     "output_type": "execute_result"
    }
   ],
   "source": [
    "target"
   ]
  },
  {
   "cell_type": "code",
   "execution_count": 83,
   "metadata": {},
   "outputs": [],
   "source": [
    "c = b.groups()[1]"
   ]
  },
  {
   "cell_type": "code",
   "execution_count": 84,
   "metadata": {},
   "outputs": [
    {
     "data": {
      "text/plain": [
       "'actor(A), director(B), movie(UniqueVar1, A), movie(UniqueVar1, B)'"
      ]
     },
     "execution_count": 84,
     "metadata": {},
     "output_type": "execute_result"
    }
   ],
   "source": [
    "c"
   ]
  },
  {
   "cell_type": "code",
   "execution_count": 96,
   "metadata": {},
   "outputs": [],
   "source": [
    "d = re.findall('([a-zA-Z0-1]*)\\(([a-zA-z0-9,\\s\\_]*)\\)', c)"
   ]
  },
  {
   "cell_type": "code",
   "execution_count": 97,
   "metadata": {},
   "outputs": [
    {
     "data": {
      "text/plain": [
       "[('actor', 'A'),\n",
       " ('director', 'B'),\n",
       " ('movie', 'UniqueVar1, A'),\n",
       " ('movie', 'UniqueVar1, B')]"
      ]
     },
     "execution_count": 97,
     "metadata": {},
     "output_type": "execute_result"
    }
   ],
   "source": [
    "d"
   ]
  },
  {
   "cell_type": "code",
   "execution_count": 99,
   "metadata": {},
   "outputs": [],
   "source": [
    "clauses = [\n",
    "    [item[0], re.sub('\\s', '', item[1]).split(',')] for item in d\n",
    "]"
   ]
  },
  {
   "cell_type": "code",
   "execution_count": 100,
   "metadata": {},
   "outputs": [
    {
     "data": {
      "text/plain": [
       "[['actor', ['A']],\n",
       " ['director', ['B']],\n",
       " ['movie', ['UniqueVar1', 'A']],\n",
       " ['movie', ['UniqueVar1', 'B']]]"
      ]
     },
     "execution_count": 100,
     "metadata": {},
     "output_type": "execute_result"
    }
   ],
   "source": [
    "clauses"
   ]
  },
  {
   "cell_type": "code",
   "execution_count": 37,
   "metadata": {},
   "outputs": [],
   "source": [
    "class Term:\n",
    "    def __init__(self, name):\n",
    "        self.name = name\n",
    "\n",
    "    def is_grounded(self):\n",
    "        return self.contains_variables()\n",
    "    \n",
    "class Variable(Term):\n",
    "    def __init__(self, name):\n",
    "        super().__init__(name)\n",
    "        \n",
    "    def contains_variables(self):\n",
    "        return True\n",
    "    \n",
    "    def __repr__(self):\n",
    "        return \"Variable({})\".format(self.name)"
   ]
  },
  {
   "cell_type": "code",
   "execution_count": 38,
   "metadata": {},
   "outputs": [],
   "source": [
    "a = Variable('A')"
   ]
  },
  {
   "cell_type": "code",
   "execution_count": 39,
   "metadata": {},
   "outputs": [
    {
     "data": {
      "text/plain": [
       "True"
      ]
     },
     "execution_count": 39,
     "metadata": {},
     "output_type": "execute_result"
    }
   ],
   "source": [
    "a.is_grounded()"
   ]
  },
  {
   "cell_type": "code",
   "execution_count": 40,
   "metadata": {},
   "outputs": [
    {
     "data": {
      "text/plain": [
       "__main__.Variable"
      ]
     },
     "execution_count": 40,
     "metadata": {},
     "output_type": "execute_result"
    }
   ],
   "source": [
    "type(a)"
   ]
  },
  {
   "cell_type": "code",
   "execution_count": 41,
   "metadata": {},
   "outputs": [
    {
     "data": {
      "text/plain": [
       "Variable(A)"
      ]
     },
     "execution_count": 41,
     "metadata": {},
     "output_type": "execute_result"
    }
   ],
   "source": [
    "a"
   ]
  },
  {
   "cell_type": "code",
   "execution_count": 42,
   "metadata": {},
   "outputs": [],
   "source": [
    "x = Term('lll')"
   ]
  },
  {
   "cell_type": "code",
   "execution_count": null,
   "metadata": {},
   "outputs": [],
   "source": []
  }
 ],
 "metadata": {
  "kernelspec": {
   "display_name": "Python 3",
   "language": "python",
   "name": "python3"
  },
  "language_info": {
   "codemirror_mode": {
    "name": "ipython",
    "version": 3
   },
   "file_extension": ".py",
   "mimetype": "text/x-python",
   "name": "python",
   "nbconvert_exporter": "python",
   "pygments_lexer": "ipython3",
   "version": "3.8.5"
  }
 },
 "nbformat": 4,
 "nbformat_minor": 4
}
